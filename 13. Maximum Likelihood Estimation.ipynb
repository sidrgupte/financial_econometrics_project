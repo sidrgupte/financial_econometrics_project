{
 "cells": [
  {
   "cell_type": "code",
   "execution_count": 1,
   "metadata": {},
   "outputs": [],
   "source": [
    "# importing the libraries\n",
    "import math\n",
    "import matplotlib.pyplot as plt\n",
    "import numpy as np\n",
    "import scipy\n",
    "import scipy.stats"
   ]
  },
  {
   "cell_type": "markdown",
   "metadata": {},
   "source": [
    "## Normal Distribution"
   ]
  },
  {
   "cell_type": "code",
   "execution_count": 2,
   "metadata": {},
   "outputs": [],
   "source": [
    "# Let us sample a data from a normal distribution with our chosen mean and std:\n",
    "mean = 40\n",
    "std = 10\n",
    "X = np.random.normal(mean, std, 1000)"
   ]
  },
  {
   "cell_type": "code",
   "execution_count": 5,
   "metadata": {},
   "outputs": [
    {
     "data": {
      "text/plain": [
       "(array([  9.,  19.,  87., 211., 270., 257., 110.,  29.,   7.,   1.]),\n",
       " array([ 4.80810836, 12.28972758, 19.7713468 , 27.25296602, 34.73458524,\n",
       "        42.21620446, 49.69782369, 57.17944291, 64.66106213, 72.14268135,\n",
       "        79.62430057]),\n",
       " <BarContainer object of 10 artists>)"
      ]
     },
     "execution_count": 5,
     "metadata": {},
     "output_type": "execute_result"
    },
    {
     "data": {
      "image/png": "[encoded data removed]",
      "text/plain": [
       "<Figure size 432x288 with 1 Axes>"
      ]
     },
     "metadata": {
      "needs_background": "light"
     },
     "output_type": "display_data"
    }
   ],
   "source": [
    "# We can see that the data X us normally distributed around the mean 40\n",
    "plt.hist(X)"
   ]
  },
  {
   "cell_type": "markdown",
   "metadata": {},
   "source": [
    "Now, let us suppose we were given the data and we didn't know the real parameters i.e. the real mean $\\mu$ and the real standard deviation $\\sigma$\n",
    "We want to approximate the parameters so we name them $\\hat{\\mu}$ and $\\hat{\\sigma}$. \n",
    "The formula for $\\hat{\\mu}$ is: $$\\hat{\\mu} = \\sum_{i=1}^{n}\\frac{x_{i}}{n} $$\n",
    "The formua for $\\hat{\\sigma}$ is: $$ \\hat{\\sigma} = \\sqrt{\\frac{1}{n}\\sum_{i=1}^{n}(x_{i}-\\mu)^{2}} $$\n",
    "\n",
    "NOTE: See the subtopic \"Continuous distribution, continuous parameter space\" here: https://en.wikipedia.org/wiki/Maximum_likelihood_estimation#:~:text=In%20statistics%2C%20maximum%20likelihood%20estimation,observed%20data%20is%20most%20probable."
   ]
  },
  {
   "cell_type": "code",
   "execution_count": 6,
   "metadata": {},
   "outputs": [],
   "source": [
    "def normal_mu_MLE(X):\n",
    "    # Get the number  of observations:\n",
    "    n = len(X)\n",
    "    # Sum of the observations:\n",
    "    s = sum(X)\n",
    "    # Calculate the estimated mean:\n",
    "    return sum(X)/n\n",
    "\n",
    "def normal_sigma_MLE(X):\n",
    "    n = len(X)\n",
    "    # Get the mu MLE:\n",
    "    mu = normal_mu_MLE(X)\n",
    "    # Sum the squares of the differences:\n",
    "    s = sum((X-mu)**2)\n",
    "    # compute the estimated standard deviation:\n",
    "    return np.sqrt((1.0/n)*(s))"
   ]
  },
  {
   "cell_type": "markdown",
   "metadata": {},
   "source": [
    "Now let's try our functions out on our sample data and see how they compare to the built-in np.mean and np.std\n",
    "\n"
   ]
  },
  {
   "cell_type": "code",
   "execution_count": 9,
   "metadata": {},
   "outputs": [
    {
     "name": "stdout",
     "output_type": "stream",
     "text": [
      "Our estimated mean: 39.41633991455696\n",
      "Inbuilt estimated mean: 39.41633991455696\n",
      "\n",
      "Our estimated standard deviation: 10.285737119041393\n",
      "Inbuilt estimated standard deviation: 10.28573711904139\n"
     ]
    }
   ],
   "source": [
    "print(f\"Our estimated mean: {normal_mu_MLE(X)}\")\n",
    "print(f\"Inbuilt estimated mean: {np.mean(X)}\")\n",
    "\n",
    "print(f\"\\nOur estimated standard deviation: {normal_sigma_MLE(X)}\")\n",
    "print(f\"Inbuilt estimated standard deviation: {np.std(X)}\")"
   ]
  },
  {
   "cell_type": "code",
   "execution_count": 12,
   "metadata": {},
   "outputs": [
    {
     "name": "stdout",
     "output_type": "stream",
     "text": [
      "Estimated Mean: 39.41633991455696\n",
      "Estimated Standard Deviation: 10.28573711904139\n"
     ]
    }
   ],
   "source": [
    "# Now let us estimate using Scipy's fit function:\n",
    "mu, std = scipy.stats.norm.fit(X)\n",
    "print(f\"Estimated Mean: {mu}\")\n",
    "print(f\"Estimated Standard Deviation: {std}\")"
   ]
  },
  {
   "cell_type": "code",
   "execution_count": 16,
   "metadata": {},
   "outputs": [
    {
     "data": {
      "image/png": "[encoded data removed]",
      "text/plain": [
       "<Figure size 432x288 with 1 Axes>"
      ]
     },
     "metadata": {
      "needs_background": "light"
     },
     "output_type": "display_data"
    }
   ],
   "source": [
    "# Now let us fit the data:\n",
    "pdf = scipy.stats.norm.pdf\n",
    "x = np.linspace(0,80,80)\n",
    "plt.hist(X, bins=80, density=True)\n",
    "plt.plot(pdf(x, loc=mu, scale=std))\n",
    "plt.xlabel(\"Value\")\n",
    "plt.ylabel(\"Observed Frequency\")\n",
    "plt.legend(['Fitted Distribution PDF', 'Observed Data', ]);\n",
    "plt.grid()\n",
    "plt.plot();"
   ]
  },
  {
   "cell_type": "markdown",
   "metadata": {},
   "source": [
    "## Exponential Distribution\n",
    "\n",
    "The exponential distribution is defined as following:\n",
    "$$\n",
    "f_{X}(x) = \\frac{1}{\\lambda}e^{-\\frac{x}{\\lambda}}\n",
    "$$ \n",
    "Then, the likelihood function for exponential distribution becomes:\n",
    "$$\\begin{aligned}\n",
    "L(\\lambda;x_{1},\\dotsc ,x_{n}) = \\prod_{i=1}^{n}\\frac{1}{\\lambda}e^{-\\frac{x_{i}}{\\lambda}} \\\\\n",
    "=\\lambda^{-n}e^{-\\frac{1}{\\lambda}\\sum_{i=1}^{n}x_{i}} \\\\\n",
    "=\\lambda^{-n}e^{-\\lambda^{-1}\\sum_{i=1}^{n}x_{i}} \\\\\n",
    "\\end{aligned}$$\n",
    "\n",
    "Now that we have the likelihood function, we take the lof to get the log-likelihood function:\n",
    "$$\\begin{aligned}\n",
    "l(\\lambda;x_{1},\\dotsc ,x_{n}) = \\ln{L(\\lambda;x_{1},\\dotsc ,x_{n})} \\\\\n",
    "=  \\ln(\\lambda^{-n}) + \\ln(e^{-\\lambda^{-1}\\sum_{i=1}^{n}x_{i}}) \\\\\n",
    "= -n\\ln(\\lambda) -\\lambda^{-1}\\sum_{i=1}^{n}x_{i}\n",
    "= -n\\ln(\\lambda) - \\frac{1}{\\lambda}\\sum_{i=1}^{n}x_{i}\n",
    "\\end{aligned}$$\n",
    "\n",
    "So, finally we have:\n",
    "$$\n",
    "l = -n\\ln(\\lambda) - \\frac{1}{\\lambda}\\sum_{i=1}^{n}x_{i}\n",
    "$$\n",
    "\n",
    "Now we want the maximum likelihood estimator and that means to maximize $l$ over $lambda$. This means  $\\frac{\\partial l}{\\partial \\lambda} = 0$ and hence we get the following:\n",
    "$$\\begin{aligned}\n",
    "\\frac{\\partial l}{\\partial \\lambda} = -\\frac{n}{\\lambda} + \\frac{1}{\\lambda^{2}}\\sum_{i=1}^{n}x_{i}  = 0\n",
    "\\end{aligned}$$\n",
    "\n",
    "Thid means:\n",
    "$$\n",
    "\\frac{n}{\\lambda} = \\frac{1}{\\lambda^{2}}\\sum_{i=1}^{n}x_{i}\n",
    "$$\n",
    "\n",
    "And finally we get:\n",
    "$$\n",
    "\\hat{\\lambda} = \\frac{1}{n}\\sum_{i=1}^{n}x_{i}\n",
    "$$\n"
   ]
  },
  {
   "cell_type": "code",
   "execution_count": 33,
   "metadata": {},
   "outputs": [],
   "source": [
    "# let us generate the data:\n",
    "lambda_real = 5\n",
    "X = np.random.exponential(lambda_real, 1000)"
   ]
  },
  {
   "cell_type": "code",
   "execution_count": 34,
   "metadata": {},
   "outputs": [],
   "source": [
    "# Our function to the estimate:\n",
    "def exp_lambda_MLE(X):\n",
    "    n = len(X)\n",
    "    s = sum(X)\n",
    "    return s/n\n",
    "\n",
    "# Scipy inbuilt function:\n",
    "_,l=scipy.stats.expon.fit(X, floc=0)"
   ]
  },
  {
   "cell_type": "code",
   "execution_count": 35,
   "metadata": {},
   "outputs": [
    {
     "name": "stdout",
     "output_type": "stream",
     "text": [
      "Our estimate of lambda: 4.870571041375802\n",
      "Scipy's estimate of lambda: 4.870571041375804\n"
     ]
    }
   ],
   "source": [
    "print(f\"Our estimate of lambda: {exp_lambda_MLE(X)}\")\n",
    "print(f\"Scipy's estimate of lambda: {l}\")"
   ]
  },
  {
   "cell_type": "code",
   "execution_count": 36,
   "metadata": {},
   "outputs": [
    {
     "data": {
      "image/png": "[encoded data removed]",
      "text/plain": [
       "<Figure size 432x288 with 1 Axes>"
      ]
     },
     "metadata": {
      "needs_background": "light"
     },
     "output_type": "display_data"
    }
   ],
   "source": [
    "# now we graph it:\n",
    "pdf = scipy.stats.expon.pdf\n",
    "x = range(0, 80)\n",
    "plt.hist(X, bins=x, density='true')\n",
    "plt.plot(pdf(x, scale=l))\n",
    "plt.xlabel('Value')\n",
    "plt.ylabel('Observed Frequency')\n",
    "plt.grid()\n",
    "plt.legend(['Fitted Distribution PDF', 'Observed Data', ]);"
   ]
  },
  {
   "cell_type": "markdown",
   "metadata": {},
   "source": [
    "## MLE for Asset Returns\n",
    "\n",
    "Now we'll fetch some real returns and try to fit a normal distribution to them using MLE.\n",
    "\n"
   ]
  },
  {
   "cell_type": "code",
   "execution_count": 37,
   "metadata": {},
   "outputs": [],
   "source": [
    "import pandas_datareader.data as web\n",
    "import datetime as dt\n",
    "\n",
    "start = dt.datetime(2014,1,1)\n",
    "end = dt.datetime(2015,1,1)\n",
    "\n",
    "prices =  web.DataReader('TSLA', \"yahoo\", start, end)['Adj Close']"
   ]
  },
  {
   "cell_type": "code",
   "execution_count": 49,
   "metadata": {},
   "outputs": [],
   "source": [
    "# Now, we calculate absolute returns each day i.e. today's price-last-day's price:\n",
    "absolute_returns = np.diff(prices)\n",
    "returns = absolute_returns/prices[:-1] # This is the same as prices.pct_change()[1:]"
   ]
  },
  {
   "cell_type": "markdown",
   "metadata": {},
   "source": [
    "Let's use scipy's fit function to get the $\\mu$ and $\\sigma$ MLEs.\n",
    "\n"
   ]
  },
  {
   "cell_type": "code",
   "execution_count": 54,
   "metadata": {},
   "outputs": [
    {
     "data": {
      "image/png": "[encoded data removed]",
      "text/plain": [
       "<Figure size 432x288 with 1 Axes>"
      ]
     },
     "metadata": {
      "needs_background": "light"
     },
     "output_type": "display_data"
    }
   ],
   "source": [
    "mu, std = scipy.stats.norm.fit(returns)\n",
    "pdf = scipy.stats.norm.pdf\n",
    "x = np.linspace(-1,1, num=100)\n",
    "h = plt.hist(returns, bins=x, density=True)\n",
    "l = plt.plot(x, pdf(x, loc=mu, scale=std))\n",
    "plt.grid();"
   ]
  },
  {
   "cell_type": "markdown",
   "metadata": {},
   "source": [
    "Of course, this fit is meaningless unless we've tested that they obey a normal distribution first. We can test this using the Jarque-Bera normality test. The Jarque-Bera test will reject the hypothesis of a normal distribution if the p-value is under a c."
   ]
  },
  {
   "cell_type": "code",
   "execution_count": 60,
   "metadata": {},
   "outputs": [
    {
     "name": "stdout",
     "output_type": "stream",
     "text": [
      "Jarque-Bera Test statistic: 249.43350770703043\n",
      "p-value: 6.858071372376853e-55\n",
      "Skewness: 0.7513125049011787\n",
      "Kurtosis: 7.646755207269467\n"
     ]
    }
   ],
   "source": [
    "from statsmodels.stats.stattools import jarque_bera\n",
    "result = jarque_bera(returns)\n",
    "print(f\"Jarque-Bera Test statistic: {result[0]}\")\n",
    "print(f\"p-value: {result[1]}\")\n",
    "print(f\"Skewness: {result[2]}\")\n",
    "print(f\"Kurtosis: {result[3]}\")"
   ]
  },
  {
   "cell_type": "code",
   "execution_count": 61,
   "metadata": {},
   "outputs": [
    {
     "name": "stdout",
     "output_type": "stream",
     "text": [
      "Jarque-Bera Test statistic: 0.30908607254147064\n",
      "p-value: 0.8568066175870686\n",
      "Skewness: 0.024903006064173238\n",
      "Kurtosis: 2.929733173567705\n"
     ]
    }
   ],
   "source": [
    "# The above figures are parameters for our \"returns\" \n",
    "# Let us look at parameters of a standard normal distribution\n",
    "result_actual = jarque_bera(np.random.normal(0,1,1000))\n",
    "print(f\"Jarque-Bera Test statistic: {result_actual[0]}\")\n",
    "print(f\"p-value: {result_actual[1]}\")\n",
    "print(f\"Skewness: {result_actual[2]}\")\n",
    "print(f\"Kurtosis: {result_actual[3]}\")"
   ]
  },
  {
   "cell_type": "code",
   "execution_count": null,
   "metadata": {},
   "outputs": [],
   "source": []
  }
 ],
 "metadata": {
  "kernelspec": {
   "display_name": "Python 3",
   "language": "python",
   "name": "python3"
  },
  "language_info": {
   "codemirror_mode": {
    "name": "ipython",
    "version": 3
   },
   "file_extension": ".py",
   "mimetype": "text/x-python",
   "name": "python",
   "nbconvert_exporter": "python",
   "pygments_lexer": "ipython3",
   "version": "3.8.5"
  }
 },
 "nbformat": 4,
 "nbformat_minor": 4
}
