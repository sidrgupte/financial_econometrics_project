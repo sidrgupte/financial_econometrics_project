{
 "cells": [
  {
   "cell_type": "code",
   "execution_count": 1,
   "metadata": {},
   "outputs": [],
   "source": [
    "# importing the libraries\n",
    "import numpy as np\n",
    "import pandas as pd\n",
    "import matplotlib.pyplot as plt\n",
    "import pandas_datareader.data as web\n",
    "import datetime as dt"
   ]
  },
  {
   "cell_type": "code",
   "execution_count": 4,
   "metadata": {},
   "outputs": [
    {
     "name": "stdout",
     "output_type": "stream",
     "text": [
      "[13 23 26 27 27 36 42 61 74 75 77 77 81 82 86 86 88 91 91 92]\n",
      "Mean of X: 62.75\n"
     ]
    }
   ],
   "source": [
    "# Generate 20 ranom integers <100:\n",
    "X = np.random.randint(100, size=20)\n",
    "\n",
    "# Sort them:\n",
    "X = np.sort(X)\n",
    "print(X)\n",
    "\n",
    "# Calculate its mean:\n",
    "mu = np.mean(X)\n",
    "print(f'Mean of X: {mu}')"
   ]
  },
  {
   "cell_type": "markdown",
   "metadata": {},
   "source": [
    "# Range"
   ]
  },
  {
   "cell_type": "code",
   "execution_count": 6,
   "metadata": {},
   "outputs": [
    {
     "name": "stdout",
     "output_type": "stream",
     "text": [
      "Range of X: 79\n"
     ]
    }
   ],
   "source": [
    "# we use numpy's peak to peak function for this:\n",
    "print(f\"Range of X: {np.ptp(X)}\")"
   ]
  },
  {
   "cell_type": "markdown",
   "metadata": {},
   "source": [
    "# Mean Absolute Deviation"
   ]
  },
  {
   "cell_type": "code",
   "execution_count": 8,
   "metadata": {},
   "outputs": [
    {
     "name": "stdout",
     "output_type": "stream",
     "text": [
      "Mean Absolute Deviation of X: 24.7\n"
     ]
    }
   ],
   "source": [
    "abs_dispersion = [np.abs(x-mu) for x in X]\n",
    "MAD = np.sum(abs_dispersion) / len(X) \n",
    "print(f\"Mean Absolute Deviation of X: {MAD}\")"
   ]
  },
  {
   "cell_type": "markdown",
   "metadata": {},
   "source": [
    "#  Variance and Standard Deviation"
   ]
  },
  {
   "cell_type": "code",
   "execution_count": 11,
   "metadata": {},
   "outputs": [
    {
     "name": "stdout",
     "output_type": "stream",
     "text": [
      "Variance: 733.3875\n",
      "Standard Variation: 27.081128115349998\n"
     ]
    }
   ],
   "source": [
    "# Calculating manually:\n",
    "var_single = [(x-mu)**2 for x in X]\n",
    "var = np.sum(var_single)/len(X)\n",
    "print(f'Variance: {var}')\n",
    "print(f'Standard Variation: {np.sqrt(var)}')"
   ]
  },
  {
   "cell_type": "code",
   "execution_count": 13,
   "metadata": {},
   "outputs": [
    {
     "name": "stdout",
     "output_type": "stream",
     "text": [
      "Variance: 733.3875\n",
      "Standard Variation: 27.081128115349998\n"
     ]
    }
   ],
   "source": [
    "# Calculating using the predefined function::\n",
    "print(f'Variance: {np.var(X)}')\n",
    "print(f'Standard Variation: {np.std(X)}') "
   ]
  },
  {
   "cell_type": "markdown",
   "metadata": {},
   "source": [
    "### Checking the standard deviation using Chebyshev Inequality: "
   ]
  },
  {
   "cell_type": "code",
   "execution_count": 19,
   "metadata": {},
   "outputs": [
    {
     "name": "stdout",
     "output_type": "stream",
     "text": [
      "Observations lying within 1.25: [36, 42, 61, 74, 75, 77, 77, 81, 82, 86, 86, 88, 91, 91, 92] confirm that 0.75 < 1.25\n"
     ]
    }
   ],
   "source": [
    "k = 1.25\n",
    "dist = k*np.std(X)\n",
    "l = [x for x in X if abs(x-mu) <= dist]\n",
    "print(f\"Observations lying within {k}: {l} confirm that {float(len(l))/len(X)} < {k}\")"
   ]
  },
  {
   "cell_type": "markdown",
   "metadata": {},
   "source": [
    "# Semivariance and Semideviation"
   ]
  },
  {
   "cell_type": "markdown",
   "metadata": {},
   "source": [
    "### 1. Semivariance\n",
    "\n",
    "We take sum of only those values which are less than the mean"
   ]
  },
  {
   "cell_type": "code",
   "execution_count": 20,
   "metadata": {},
   "outputs": [
    {
     "name": "stdout",
     "output_type": "stream",
     "text": [
      "Semivariance: 1138.875\n",
      "Semideviation: 33.74722210790097\n"
     ]
    }
   ],
   "source": [
    "lows = [x for x in X if x<=mu]\n",
    "semivar = np.sum((lows-mu)**2) / len(lows)\n",
    "print(f\"Semivariance: {semivar}\")\n",
    "print(f\"Semideviation: {np.sqrt(semivar)}\")"
   ]
  },
  {
   "cell_type": "markdown",
   "metadata": {},
   "source": [
    "### 2. Target Semivariance\n",
    "\n",
    "Instead of mean, we choose a number below which we want to calculate the mean. We call  this number our target."
   ]
  },
  {
   "cell_type": "code",
   "execution_count": 37,
   "metadata": {},
   "outputs": [
    {
     "name": "stdout",
     "output_type": "stream",
     "text": [
      "Target Semivariance: 1301.1339285714287\n",
      "Target Semideviation: 36.07123408717019\n"
     ]
    }
   ],
   "source": [
    "target = 50\n",
    "lows_target = [x for x in X if x<target]\n",
    "target_semivar = np.sum((lows_target-mu)**2)/len(lows_target)\n",
    "print(f\"Target Semivariance: {target_semivar}\")\n",
    "print(f\"Target Semideviation: {np.sqrt(target_semivar)}\")"
   ]
  },
  {
   "cell_type": "code",
   "execution_count": 30,
   "metadata": {},
   "outputs": [],
   "source": [
    "target = 50\n",
    "lows_target = [x for x in X if x<=target]"
   ]
  }
 ],
 "metadata": {
  "kernelspec": {
   "display_name": "Python 3",
   "language": "python",
   "name": "python3"
  },
  "language_info": {
   "codemirror_mode": {
    "name": "ipython",
    "version": 3
   },
   "file_extension": ".py",
   "mimetype": "text/x-python",
   "name": "python",
   "nbconvert_exporter": "python",
   "pygments_lexer": "ipython3",
   "version": "3.8.5"
  }
 },
 "nbformat": 4,
 "nbformat_minor": 4
}
