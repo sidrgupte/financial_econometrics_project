{
 "cells": [
  {
   "cell_type": "code",
   "execution_count": 7,
   "metadata": {},
   "outputs": [],
   "source": [
    "# Two useful statistical libraries\n",
    "import scipy.stats as stats\n",
    "import numpy as np\n",
    "\n",
    "x1 = [1, 2, 2, 3, 4, 5, 5, 7]\n",
    "x2 = x1 + [100]"
   ]
  },
  {
   "cell_type": "markdown",
   "metadata": {},
   "source": [
    "# Arithmetic Mean"
   ]
  },
  {
   "cell_type": "code",
   "execution_count": 8,
   "metadata": {},
   "outputs": [
    {
     "name": "stdout",
     "output_type": "stream",
     "text": [
      "Mean of x1: 3.625\n",
      "Mean of x1: 3.625\n",
      "Mean of x2: 14.333333333333334\n",
      "Mean of x2: 14.333333333333334\n"
     ]
    }
   ],
   "source": [
    "print(f\"Mean of x1: {sum(x1)/len(x1)}\")\n",
    "print(f\"Mean of x1: {np.mean(x1)}\")\n",
    "\n",
    "print(f\"Mean of x2: {sum(x2)/len(x2)}\")\n",
    "print(f\"Mean of x2: {np.mean(x2)}\")"
   ]
  },
  {
   "cell_type": "markdown",
   "metadata": {},
   "source": [
    "# Median"
   ]
  },
  {
   "cell_type": "code",
   "execution_count": 11,
   "metadata": {},
   "outputs": [
    {
     "name": "stdout",
     "output_type": "stream",
     "text": [
      "Median of x1: 3.5\n",
      "Median of x2: 4.0\n"
     ]
    }
   ],
   "source": [
    "print(f\"Median of x1: {np.median(x1)}\")\n",
    "print(f\"Median of x2: {np.median(x2)}\")"
   ]
  },
  {
   "cell_type": "markdown",
   "metadata": {},
   "source": [
    "# Mode"
   ]
  },
  {
   "cell_type": "code",
   "execution_count": 15,
   "metadata": {},
   "outputs": [
    {
     "name": "stdout",
     "output_type": "stream",
     "text": [
      "Mode of x1: 2\n",
      "Mode of x2: 2\n"
     ]
    }
   ],
   "source": [
    "# In inbuilt function in scipy.stats returns only one mode! Let us see:\n",
    "print(f\"Mode of x1: {stats.mode(x1)[0][0]}\")\n",
    "print(f\"Mode of x2: {stats.mode(x2)[0][0]}\")"
   ]
  },
  {
   "cell_type": "code",
   "execution_count": null,
   "metadata": {},
   "outputs": [],
   "source": [
    "# But what if there are more than one modes? Let us write a function:\n",
    "\n",
    "def mode(l):\n",
    "    # First, count the number of times each element appeared in the list. We store this information in a dictionary:\n",
    "    for i in l:\n",
    "        counts = {}\n",
    "        if i in counts:\n",
    "            counts[i]+=1\n",
    "        else:\n",
    "            counts[i]=1\n",
    "    # Now return the elements that appear the most time:\n",
    "    maxcount = 0\n",
    "    modes = {}\n",
    "    for (key, value) in counts.iteritems():\n",
    "        if value>maxcount:\n",
    "            maxcount = value\n",
    "            modes = {key}\n",
    "        elif value==maxcount:\n",
    "            modes.add(key)\n",
    "        \n",
    "        if maxcount>1 or len(l) == 1:\n",
    "            return list(modes)\n",
    "        return \"No mode!\"\n",
    "\n",
    "mode(x1)"
   ]
  },
  {
   "cell_type": "markdown",
   "metadata": {},
   "source": [
    "# Geometric Mean "
   ]
  },
  {
   "cell_type": "code",
   "execution_count": 27,
   "metadata": {},
   "outputs": [
    {
     "name": "stdout",
     "output_type": "stream",
     "text": [
      "Geometric mean of x1: 3.0941040249774403\n",
      "Geometric mean of x2: 4.552534587620071\n"
     ]
    }
   ],
   "source": [
    "print(f\"Geometric mean of x1: {stats.gmean(x1)}\")\n",
    "print(f\"Geometric mean of x2: {stats.gmean(x2)}\")"
   ]
  },
  {
   "cell_type": "code",
   "execution_count": null,
   "metadata": {},
   "outputs": [],
   "source": [
    "# When we have negative returns. The returns are always from -1 to 1\n",
    "# So, we add one to each return:\n",
    "ratios = returns + np.ones(len(returns))\n",
    "R_G = stats.gmean(rations) - 1"
   ]
  }
 ],
 "metadata": {
  "kernelspec": {
   "display_name": "Python 3",
   "language": "python",
   "name": "python3"
  },
  "language_info": {
   "codemirror_mode": {
    "name": "ipython",
    "version": 3
   },
   "file_extension": ".py",
   "mimetype": "text/x-python",
   "name": "python",
   "nbconvert_exporter": "python",
   "pygments_lexer": "ipython3",
   "version": "3.8.5"
  }
 },
 "nbformat": 4,
 "nbformat_minor": 4
}
